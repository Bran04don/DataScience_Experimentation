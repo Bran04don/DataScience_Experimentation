{
  "nbformat": 4,
  "nbformat_minor": 0,
  "metadata": {
    "colab": {
      "name": "OpenWeather_01.ipynb",
      "provenance": [],
      "collapsed_sections": [],
      "authorship_tag": "ABX9TyPxRVRaWZeVBGEKXLROons2",
      "include_colab_link": true
    },
    "kernelspec": {
      "name": "python3",
      "display_name": "Python 3"
    },
    "language_info": {
      "name": "python"
    }
  },
  "cells": [
    {
      "cell_type": "markdown",
      "metadata": {
        "id": "view-in-github",
        "colab_type": "text"
      },
      "source": [
        "<a href=\"https://colab.research.google.com/github/Bran04don/DataScience_Experimentation/blob/main/OpenWeather_01.ipynb\" target=\"_parent\"><img src=\"https://colab.research.google.com/assets/colab-badge.svg\" alt=\"Open In Colab\"/></a>"
      ]
    },
    {
      "cell_type": "code",
      "execution_count": null,
      "metadata": {
        "id": "KVqgSyMSrRjC"
      },
      "outputs": [],
      "source": [
        "import requests"
      ]
    },
    {
      "cell_type": "code",
      "source": [
        "id = \"[api_key]\""
      ],
      "metadata": {
        "id": "08m3wYzyI099"
      },
      "execution_count": null,
      "outputs": []
    },
    {
      "cell_type": "code",
      "source": [
        "city = \"London\""
      ],
      "metadata": {
        "id": "IGioSy_Wrd-z"
      },
      "execution_count": null,
      "outputs": []
    },
    {
      "cell_type": "code",
      "source": [
        "url = \"https://api.openweathermap.org/data/2.5/weather?q=\"+city+\"&appid=\"+id"
      ],
      "metadata": {
        "id": "zZj9ZAAjrV2Q"
      },
      "execution_count": null,
      "outputs": []
    },
    {
      "cell_type": "code",
      "source": [
        "response = requests.get(url).json()"
      ],
      "metadata": {
        "id": "BG1hU_MxrhpQ"
      },
      "execution_count": null,
      "outputs": []
    },
    {
      "cell_type": "code",
      "source": [
        "response"
      ],
      "metadata": {
        "colab": {
          "base_uri": "https://localhost:8080/"
        },
        "id": "TFy0rrXxrz43",
        "outputId": "e32871b8-3b84-4198-f69b-3b16ee6800ab"
      },
      "execution_count": null,
      "outputs": [
        {
          "output_type": "execute_result",
          "data": {
            "text/plain": [
              "{'base': 'stations',\n",
              " 'clouds': {'all': 59},\n",
              " 'cod': 200,\n",
              " 'coord': {'lat': 51.5085, 'lon': -0.1257},\n",
              " 'dt': 1655374500,\n",
              " 'id': 2643743,\n",
              " 'main': {'feels_like': 297.88,\n",
              "  'humidity': 42,\n",
              "  'pressure': 1023,\n",
              "  'temp': 298.22,\n",
              "  'temp_max': 299.26,\n",
              "  'temp_min': 296.4},\n",
              " 'name': 'London',\n",
              " 'sys': {'country': 'GB',\n",
              "  'id': 2019646,\n",
              "  'sunrise': 1655350963,\n",
              "  'sunset': 1655410782,\n",
              "  'type': 2},\n",
              " 'timezone': 3600,\n",
              " 'visibility': 10000,\n",
              " 'weather': [{'description': 'broken clouds',\n",
              "   'icon': '04d',\n",
              "   'id': 803,\n",
              "   'main': 'Clouds'}],\n",
              " 'wind': {'deg': 0, 'speed': 2.06}}"
            ]
          },
          "metadata": {},
          "execution_count": 5
        }
      ]
    },
    {
      "cell_type": "code",
      "source": [
        "response['name']"
      ],
      "metadata": {
        "id": "3hoXJdyMr0eF",
        "colab": {
          "base_uri": "https://localhost:8080/",
          "height": 35
        },
        "outputId": "cf5886ac-1ad9-40d6-fa03-02567038b984"
      },
      "execution_count": null,
      "outputs": [
        {
          "output_type": "execute_result",
          "data": {
            "text/plain": [
              "'London'"
            ],
            "application/vnd.google.colaboratory.intrinsic+json": {
              "type": "string"
            }
          },
          "metadata": {},
          "execution_count": 10
        }
      ]
    },
    {
      "cell_type": "code",
      "source": [
        "response['sys']"
      ],
      "metadata": {
        "colab": {
          "base_uri": "https://localhost:8080/"
        },
        "id": "DaFd6yXPCb4O",
        "outputId": "b53b1632-fe61-4d63-b5bc-cfa39ce03297"
      },
      "execution_count": null,
      "outputs": [
        {
          "output_type": "execute_result",
          "data": {
            "text/plain": [
              "{'country': 'GB',\n",
              " 'id': 2019646,\n",
              " 'sunrise': 1655350963,\n",
              " 'sunset': 1655410782,\n",
              " 'type': 2}"
            ]
          },
          "metadata": {},
          "execution_count": 11
        }
      ]
    },
    {
      "cell_type": "code",
      "source": [
        "response['weather']"
      ],
      "metadata": {
        "colab": {
          "base_uri": "https://localhost:8080/"
        },
        "id": "60Y12zTrCdgi",
        "outputId": "49c9adeb-5ef2-4485-e254-18b28a626260"
      },
      "execution_count": null,
      "outputs": [
        {
          "output_type": "execute_result",
          "data": {
            "text/plain": [
              "[{'description': 'broken clouds', 'icon': '04d', 'id': 803, 'main': 'Clouds'}]"
            ]
          },
          "metadata": {},
          "execution_count": 14
        }
      ]
    },
    {
      "cell_type": "code",
      "source": [
        ""
      ],
      "metadata": {
        "id": "Y2LC-dEQCfq_"
      },
      "execution_count": null,
      "outputs": []
    }
  ]
}