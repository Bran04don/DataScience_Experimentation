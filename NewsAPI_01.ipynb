{
  "nbformat": 4,
  "nbformat_minor": 0,
  "metadata": {
    "colab": {
      "name": "NewsAPI_01.ipynb",
      "provenance": [],
      "collapsed_sections": [],
      "authorship_tag": "ABX9TyOuaDmiQNrQ3kjO1UmMI3s8",
      "include_colab_link": true
    },
    "kernelspec": {
      "name": "python3",
      "display_name": "Python 3"
    },
    "language_info": {
      "name": "python"
    }
  },
  "cells": [
    {
      "cell_type": "markdown",
      "metadata": {
        "id": "view-in-github",
        "colab_type": "text"
      },
      "source": [
        "<a href=\"https://colab.research.google.com/github/Bran04don/DataScience_Experimentation/blob/main/NewsAPI_01.ipynb\" target=\"_parent\"><img src=\"https://colab.research.google.com/assets/colab-badge.svg\" alt=\"Open In Colab\"/></a>"
      ]
    },
    {
      "cell_type": "code",
      "execution_count": null,
      "metadata": {
        "id": "lrBYA-7hsjvZ"
      },
      "outputs": [],
      "source": [
        "import pandas as pd\n",
        "import requests"
      ]
    },
    {
      "cell_type": "code",
      "source": [
        "!pip install newsapi-python"
      ],
      "metadata": {
        "colab": {
          "base_uri": "https://localhost:8080/"
        },
        "id": "nYEMSJDfsmfh",
        "outputId": "cbb158b2-a60f-4860-9d6b-b1fd52da4e18"
      },
      "execution_count": null,
      "outputs": [
        {
          "output_type": "stream",
          "name": "stdout",
          "text": [
            "Looking in indexes: https://pypi.org/simple, https://us-python.pkg.dev/colab-wheels/public/simple/\n",
            "Collecting newsapi-python\n",
            "  Downloading newsapi_python-0.2.6-py2.py3-none-any.whl (7.9 kB)\n",
            "Requirement already satisfied: requests<3.0.0 in /usr/local/lib/python3.7/dist-packages (from newsapi-python) (2.23.0)\n",
            "Requirement already satisfied: urllib3!=1.25.0,!=1.25.1,<1.26,>=1.21.1 in /usr/local/lib/python3.7/dist-packages (from requests<3.0.0->newsapi-python) (1.24.3)\n",
            "Requirement already satisfied: certifi>=2017.4.17 in /usr/local/lib/python3.7/dist-packages (from requests<3.0.0->newsapi-python) (2022.5.18.1)\n",
            "Requirement already satisfied: idna<3,>=2.5 in /usr/local/lib/python3.7/dist-packages (from requests<3.0.0->newsapi-python) (2.10)\n",
            "Requirement already satisfied: chardet<4,>=3.0.2 in /usr/local/lib/python3.7/dist-packages (from requests<3.0.0->newsapi-python) (3.0.4)\n",
            "Installing collected packages: newsapi-python\n",
            "Successfully installed newsapi-python-0.2.6\n"
          ]
        }
      ]
    },
    {
      "cell_type": "code",
      "source": [
        "from newsapi import NewsApiClient"
      ],
      "metadata": {
        "id": "eWuZFNKMtFyZ"
      },
      "execution_count": null,
      "outputs": []
    },
    {
      "cell_type": "code",
      "source": [
        "id = \"[api_key]\""
      ],
      "metadata": {
        "id": "mkUq8L8cNi4u"
      },
      "execution_count": null,
      "outputs": []
    },
    {
      "cell_type": "code",
      "source": [
        "newsapi = NewsApiClient(api_key=id)"
      ],
      "metadata": {
        "id": "oix02G6Gtfny"
      },
      "execution_count": null,
      "outputs": []
    },
    {
      "cell_type": "code",
      "source": [
        "top_headlines = newsapi.get_top_headlines(q='tech',\n",
        "                                          #sources='bbc-news,the-verge',\n",
        "                                          category='technology',\n",
        "                                          language='en',\n",
        "                                          country='gb')"
      ],
      "metadata": {
        "id": "nGApxUzQtonF"
      },
      "execution_count": null,
      "outputs": []
    },
    {
      "cell_type": "code",
      "source": [
        "import json\n",
        "top_headlines.values()"
      ],
      "metadata": {
        "colab": {
          "base_uri": "https://localhost:8080/"
        },
        "id": "eoUmb8hVwhcm",
        "outputId": "00d7e8f2-8d34-4810-cb4f-dc442e0d440f"
      },
      "execution_count": null,
      "outputs": [
        {
          "output_type": "execute_result",
          "data": {
            "text/plain": [
              "dict_values(['ok', 4, [{'source': {'id': 'techradar', 'name': 'TechRadar'}, 'author': 'Callum Bains', 'title': 'GTA 5 on PS5 is about to skyrocket in price - TechRadar', 'description': 'Grab it while you can', 'url': 'https://www.techradar.com/news/gta-5-on-ps5-is-about-to-skyrocket-in-price', 'urlToImage': 'https://cdn.mos.cms.futurecdn.net/of5Hs3daFWu3X6cNc3KveN-1200-80.jpg', 'publishedAt': '2022-06-13T18:00:57Z', 'content': 'The price of GTA 5 on PS5 is about to skyrocket, as PlayStation’s exclusive price-cut comes to an end.\\r\\nGTA 5 launched on PS5 and Xbox Series X|S earlier this year at a \"special introductory price” (… [+2676 chars]'}, {'source': {'id': 'ars-technica', 'name': 'Ars Technica'}, 'author': 'Scharon Harding', 'title': 'Chromebooks work toward more flexible window snapping - Ars Technica', 'description': \"Not quite Windows 11 Snap Layouts, but it's a potential improvement.\", 'url': 'https://arstechnica.com/gadgets/2022/06/chromebooks-work-toward-more-versatile-windows-snapping/', 'urlToImage': 'https://cdn.arstechnica.net/wp-content/uploads/2021/11/GettyImages-1169795042-760x380.jpg', 'publishedAt': '2022-06-13T16:13:45Z', 'content': '16 with 8 posters participating\\r\\nGoogle is working to make the use of multiple windows in Chrome OS a bit more flexible. While Chromebooks are currently limited to two windows, each taking up 50 perc… [+1541 chars]'}, {'source': {'id': 'techradar', 'name': 'TechRadar'}, 'author': 'Callum Bains', 'title': 'Half-Life: Alyx Levitation is a mod to rival Black Mesa - TechRadar', 'description': 'Return to City 17', 'url': 'https://www.techradar.com/news/half-life-alyx-levitation-is-a-mod-to-rival-black-mesa', 'urlToImage': 'https://cdn.mos.cms.futurecdn.net/HYnc6CqbWbghanAfDjHVAk-1200-80.jpg', 'publishedAt': '2022-06-12T21:29:48Z', 'content': 'Half-Life: Alyx Leviathan, an upcoming fan-made mod for Valve’s acclaimed VR FPS, has received its first full gameplay reveal – giving us a glimpse at its ambitious scope and gunplay.\\r\\nRevealed as pa… [+2082 chars]'}, {'source': {'id': None, 'name': 'TechSpot'}, 'author': 'Jimmy Pezzone', 'title': \"Newly identified PACMAN flaw in Apple M1 CPU can't be patched - TechSpot\", 'description': \"Led by MIT's Mengjia Yan, researchers from MIT's Computer Science and Artificial Intelligence Laboratory (MIT CSAIL) created the novel attack using a combination of memory corruption and...\", 'url': 'https://www.techspot.com/news/94914-newly-identified-pacman-flaw-apple-m1-cpu-cant.html', 'urlToImage': 'https://static.techspot.com/images2/news/bigimage/2022/06/2022-06-12-image-5.jpg', 'publishedAt': '2022-06-12T15:11:00Z', 'content': \"What just happened? Researchers have revealed a newly discovered attack vector allowing malicious actors to overcome the M1's security features. The exploit allows the CPU's Pointer Authentication Co… [+2244 chars]\"}]])"
            ]
          },
          "metadata": {},
          "execution_count": 64
        }
      ]
    },
    {
      "cell_type": "code",
      "source": [
        "data = pd.DataFrame(top_headlines)"
      ],
      "metadata": {
        "id": "sW5VoZAfyRmP"
      },
      "execution_count": null,
      "outputs": []
    },
    {
      "cell_type": "code",
      "source": [
        "data.head()"
      ],
      "metadata": {
        "colab": {
          "base_uri": "https://localhost:8080/",
          "height": 175
        },
        "id": "FTCrNWY1ytDB",
        "outputId": "4bce8c84-3fc1-4cba-979b-58cabaaa34d3"
      },
      "execution_count": null,
      "outputs": [
        {
          "output_type": "execute_result",
          "data": {
            "text/plain": [
              "  status  totalResults                                           articles\n",
              "0     ok             4  {'source': {'id': 'techradar', 'name': 'TechRa...\n",
              "1     ok             4  {'source': {'id': 'ars-technica', 'name': 'Ars...\n",
              "2     ok             4  {'source': {'id': 'techradar', 'name': 'TechRa...\n",
              "3     ok             4  {'source': {'id': None, 'name': 'TechSpot'}, '..."
            ],
            "text/html": [
              "\n",
              "  <div id=\"df-8b4195a0-0377-4992-bc36-7d66d4dd012c\">\n",
              "    <div class=\"colab-df-container\">\n",
              "      <div>\n",
              "<style scoped>\n",
              "    .dataframe tbody tr th:only-of-type {\n",
              "        vertical-align: middle;\n",
              "    }\n",
              "\n",
              "    .dataframe tbody tr th {\n",
              "        vertical-align: top;\n",
              "    }\n",
              "\n",
              "    .dataframe thead th {\n",
              "        text-align: right;\n",
              "    }\n",
              "</style>\n",
              "<table border=\"1\" class=\"dataframe\">\n",
              "  <thead>\n",
              "    <tr style=\"text-align: right;\">\n",
              "      <th></th>\n",
              "      <th>status</th>\n",
              "      <th>totalResults</th>\n",
              "      <th>articles</th>\n",
              "    </tr>\n",
              "  </thead>\n",
              "  <tbody>\n",
              "    <tr>\n",
              "      <th>0</th>\n",
              "      <td>ok</td>\n",
              "      <td>4</td>\n",
              "      <td>{'source': {'id': 'techradar', 'name': 'TechRa...</td>\n",
              "    </tr>\n",
              "    <tr>\n",
              "      <th>1</th>\n",
              "      <td>ok</td>\n",
              "      <td>4</td>\n",
              "      <td>{'source': {'id': 'ars-technica', 'name': 'Ars...</td>\n",
              "    </tr>\n",
              "    <tr>\n",
              "      <th>2</th>\n",
              "      <td>ok</td>\n",
              "      <td>4</td>\n",
              "      <td>{'source': {'id': 'techradar', 'name': 'TechRa...</td>\n",
              "    </tr>\n",
              "    <tr>\n",
              "      <th>3</th>\n",
              "      <td>ok</td>\n",
              "      <td>4</td>\n",
              "      <td>{'source': {'id': None, 'name': 'TechSpot'}, '...</td>\n",
              "    </tr>\n",
              "  </tbody>\n",
              "</table>\n",
              "</div>\n",
              "      <button class=\"colab-df-convert\" onclick=\"convertToInteractive('df-8b4195a0-0377-4992-bc36-7d66d4dd012c')\"\n",
              "              title=\"Convert this dataframe to an interactive table.\"\n",
              "              style=\"display:none;\">\n",
              "        \n",
              "  <svg xmlns=\"http://www.w3.org/2000/svg\" height=\"24px\"viewBox=\"0 0 24 24\"\n",
              "       width=\"24px\">\n",
              "    <path d=\"M0 0h24v24H0V0z\" fill=\"none\"/>\n",
              "    <path d=\"M18.56 5.44l.94 2.06.94-2.06 2.06-.94-2.06-.94-.94-2.06-.94 2.06-2.06.94zm-11 1L8.5 8.5l.94-2.06 2.06-.94-2.06-.94L8.5 2.5l-.94 2.06-2.06.94zm10 10l.94 2.06.94-2.06 2.06-.94-2.06-.94-.94-2.06-.94 2.06-2.06.94z\"/><path d=\"M17.41 7.96l-1.37-1.37c-.4-.4-.92-.59-1.43-.59-.52 0-1.04.2-1.43.59L10.3 9.45l-7.72 7.72c-.78.78-.78 2.05 0 2.83L4 21.41c.39.39.9.59 1.41.59.51 0 1.02-.2 1.41-.59l7.78-7.78 2.81-2.81c.8-.78.8-2.07 0-2.86zM5.41 20L4 18.59l7.72-7.72 1.47 1.35L5.41 20z\"/>\n",
              "  </svg>\n",
              "      </button>\n",
              "      \n",
              "  <style>\n",
              "    .colab-df-container {\n",
              "      display:flex;\n",
              "      flex-wrap:wrap;\n",
              "      gap: 12px;\n",
              "    }\n",
              "\n",
              "    .colab-df-convert {\n",
              "      background-color: #E8F0FE;\n",
              "      border: none;\n",
              "      border-radius: 50%;\n",
              "      cursor: pointer;\n",
              "      display: none;\n",
              "      fill: #1967D2;\n",
              "      height: 32px;\n",
              "      padding: 0 0 0 0;\n",
              "      width: 32px;\n",
              "    }\n",
              "\n",
              "    .colab-df-convert:hover {\n",
              "      background-color: #E2EBFA;\n",
              "      box-shadow: 0px 1px 2px rgba(60, 64, 67, 0.3), 0px 1px 3px 1px rgba(60, 64, 67, 0.15);\n",
              "      fill: #174EA6;\n",
              "    }\n",
              "\n",
              "    [theme=dark] .colab-df-convert {\n",
              "      background-color: #3B4455;\n",
              "      fill: #D2E3FC;\n",
              "    }\n",
              "\n",
              "    [theme=dark] .colab-df-convert:hover {\n",
              "      background-color: #434B5C;\n",
              "      box-shadow: 0px 1px 3px 1px rgba(0, 0, 0, 0.15);\n",
              "      filter: drop-shadow(0px 1px 2px rgba(0, 0, 0, 0.3));\n",
              "      fill: #FFFFFF;\n",
              "    }\n",
              "  </style>\n",
              "\n",
              "      <script>\n",
              "        const buttonEl =\n",
              "          document.querySelector('#df-8b4195a0-0377-4992-bc36-7d66d4dd012c button.colab-df-convert');\n",
              "        buttonEl.style.display =\n",
              "          google.colab.kernel.accessAllowed ? 'block' : 'none';\n",
              "\n",
              "        async function convertToInteractive(key) {\n",
              "          const element = document.querySelector('#df-8b4195a0-0377-4992-bc36-7d66d4dd012c');\n",
              "          const dataTable =\n",
              "            await google.colab.kernel.invokeFunction('convertToInteractive',\n",
              "                                                     [key], {});\n",
              "          if (!dataTable) return;\n",
              "\n",
              "          const docLinkHtml = 'Like what you see? Visit the ' +\n",
              "            '<a target=\"_blank\" href=https://colab.research.google.com/notebooks/data_table.ipynb>data table notebook</a>'\n",
              "            + ' to learn more about interactive tables.';\n",
              "          element.innerHTML = '';\n",
              "          dataTable['output_type'] = 'display_data';\n",
              "          await google.colab.output.renderOutput(dataTable, element);\n",
              "          const docLink = document.createElement('div');\n",
              "          docLink.innerHTML = docLinkHtml;\n",
              "          element.appendChild(docLink);\n",
              "        }\n",
              "      </script>\n",
              "    </div>\n",
              "  </div>\n",
              "  "
            ]
          },
          "metadata": {},
          "execution_count": 66
        }
      ]
    },
    {
      "cell_type": "code",
      "source": [
        ""
      ],
      "metadata": {
        "id": "NbG2e30IyuMC"
      },
      "execution_count": null,
      "outputs": []
    }
  ]
}